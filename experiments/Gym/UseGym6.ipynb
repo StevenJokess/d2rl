{
  "nbformat": 4,
  "nbformat_minor": 0,
  "metadata": {
    "colab": {
      "provenance": []
    },
    "kernelspec": {
      "name": "python3",
      "display_name": "Python 3"
    },
    "language_info": {
      "name": "python"
    }
  },
  "cells": [
    {
      "cell_type": "code",
      "source": [
        "!apt-get update\n",
        "!apt-get install -y xvfb python-opengl ffmpeg\n",
        "!pip install gymnasium --upgrade\n",
        "!pip install pyvirtualdisplay\n",
        "!pip install JSAnimation"
      ],
      "metadata": {
        "colab": {
          "base_uri": "https://localhost:8080/"
        },
        "id": "E223jB96ZGPE",
        "outputId": "1c4b0999-6191-4a92-d49b-12e24814d49a"
      },
      "execution_count": 1,
      "outputs": [
        {
          "output_type": "stream",
          "name": "stdout",
          "text": [
            "\r0% [Working]\r            \rGet:1 https://cloud.r-project.org/bin/linux/ubuntu focal-cran40/ InRelease [3,622 B]\n",
            "\r0% [Connecting to archive.ubuntu.com (185.125.190.39)] [Waiting for headers] [1\r0% [Connecting to archive.ubuntu.com (185.125.190.39)] [Waiting for headers] [C\r                                                                               \rHit:2 https://developer.download.nvidia.com/compute/cuda/repos/ubuntu2004/x86_64  InRelease\n",
            "Hit:3 http://security.ubuntu.com/ubuntu focal-security InRelease\n",
            "Hit:4 http://archive.ubuntu.com/ubuntu focal InRelease\n",
            "Hit:5 http://ppa.launchpad.net/c2d4u.team/c2d4u4.0+/ubuntu focal InRelease\n",
            "Hit:6 http://archive.ubuntu.com/ubuntu focal-updates InRelease\n",
            "Hit:7 http://archive.ubuntu.com/ubuntu focal-backports InRelease\n",
            "Hit:8 http://ppa.launchpad.net/cran/libgit2/ubuntu focal InRelease\n",
            "Hit:9 http://ppa.launchpad.net/deadsnakes/ppa/ubuntu focal InRelease\n",
            "Hit:10 http://ppa.launchpad.net/graphics-drivers/ppa/ubuntu focal InRelease\n",
            "Hit:11 http://ppa.launchpad.net/ubuntugis/ppa/ubuntu focal InRelease\n",
            "Fetched 3,622 B in 2s (2,217 B/s)\n",
            "Reading package lists... Done\n",
            "Reading package lists... Done\n",
            "Building dependency tree       \n",
            "Reading state information... Done\n",
            "python-opengl is already the newest version (3.1.0+dfsg-2build1).\n",
            "ffmpeg is already the newest version (7:4.2.7-0ubuntu0.1).\n",
            "xvfb is already the newest version (2:1.20.13-1ubuntu1~20.04.6).\n",
            "0 upgraded, 0 newly installed, 0 to remove and 23 not upgraded.\n",
            "Looking in indexes: https://pypi.org/simple, https://us-python.pkg.dev/colab-wheels/public/simple/\n",
            "Requirement already satisfied: gymnasium in /usr/local/lib/python3.9/dist-packages (0.27.1)\n",
            "Requirement already satisfied: typing-extensions>=4.3.0 in /usr/local/lib/python3.9/dist-packages (from gymnasium) (4.5.0)\n",
            "Requirement already satisfied: importlib-metadata>=4.8.0 in /usr/local/lib/python3.9/dist-packages (from gymnasium) (6.0.0)\n",
            "Requirement already satisfied: numpy>=1.21.0 in /usr/local/lib/python3.9/dist-packages (from gymnasium) (1.22.4)\n",
            "Requirement already satisfied: gymnasium-notices>=0.0.1 in /usr/local/lib/python3.9/dist-packages (from gymnasium) (0.0.1)\n",
            "Requirement already satisfied: cloudpickle>=1.2.0 in /usr/local/lib/python3.9/dist-packages (from gymnasium) (2.2.1)\n",
            "Requirement already satisfied: jax-jumpy>=0.2.0 in /usr/local/lib/python3.9/dist-packages (from gymnasium) (0.2.0)\n",
            "Requirement already satisfied: zipp>=0.5 in /usr/local/lib/python3.9/dist-packages (from importlib-metadata>=4.8.0->gymnasium) (3.15.0)\n",
            "Looking in indexes: https://pypi.org/simple, https://us-python.pkg.dev/colab-wheels/public/simple/\n",
            "Requirement already satisfied: pyvirtualdisplay in /usr/local/lib/python3.9/dist-packages (3.0)\n",
            "Looking in indexes: https://pypi.org/simple, https://us-python.pkg.dev/colab-wheels/public/simple/\n",
            "Requirement already satisfied: JSAnimation in /usr/local/lib/python3.9/dist-packages (0.1)\n"
          ]
        }
      ]
    },
    {
      "cell_type": "code",
      "source": [
        "import numpy as np\n",
        "np.random.seed(0)\n",
        "import matplotlib.pyplot as plt\n",
        "import pandas as pd\n",
        "import matplotlib.animation as animation\n",
        "import gymnasium as gym\n"
      ],
      "metadata": {
        "id": "iMwskAnmgGG9"
      },
      "execution_count": 2,
      "outputs": []
    },
    {
      "cell_type": "markdown",
      "source": [
        "列出所有环境"
      ],
      "metadata": {
        "id": "u-w0S3mOlxt6"
      }
    },
    {
      "cell_type": "code",
      "source": [
        "space_names = ['观测空间', '动作空间', '奖励范围', '最大步数']\n",
        "df = pd.DataFrame(columns=space_names)\n",
        "\n",
        "for env_id in gym.envs.registry:\n",
        "    try:\n",
        "        env = gym.make(env_id)\n",
        "        observation_space = env.observation_space\n",
        "        action_space = env.action_space\n",
        "        reward_range = env.reward_range\n",
        "        max_episode_steps = None\n",
        "        if isinstance(env, gym.wrappers.time_limit.TimeLimit):\n",
        "            max_episode_steps = env._max_episode_steps\n",
        "        df.loc[env_id] = [observation_space, action_space, reward_range, max_episode_steps]\n",
        "    except:\n",
        "        pass\n",
        "\n",
        "with pd.option_context('display.max_rows', None):\n",
        "    display(df)"
      ],
      "metadata": {
        "colab": {
          "base_uri": "https://localhost:8080/",
          "height": 1000
        },
        "id": "uEjVolV4lxDC",
        "outputId": "8a234b8e-b081-48f3-df5c-9aa4c8255039"
      },
      "execution_count": 3,
      "outputs": [
        {
          "output_type": "stream",
          "name": "stderr",
          "text": [
            "/usr/local/lib/python3.9/dist-packages/gymnasium/envs/registration.py:578: UserWarning: \u001b[33mWARN: The environment CartPole-v0 is out of date. You should consider upgrading to version `v1`.\u001b[0m\n",
            "  logger.warn(\n",
            "/usr/local/lib/python3.9/dist-packages/gymnasium/envs/registration.py:578: UserWarning: \u001b[33mWARN: The environment CartPoleJax-v0 is out of date. You should consider upgrading to version `v1`.\u001b[0m\n",
            "  logger.warn(\n",
            "WARNING:jax._src.lib.xla_bridge:No GPU/TPU found, falling back to CPU. (Set TF_CPP_MIN_LOG_LEVEL=0 and rerun for more info.)\n",
            "/usr/local/lib/python3.9/dist-packages/gymnasium/envs/registration.py:578: UserWarning: \u001b[33mWARN: The environment Reacher-v2 is out of date. You should consider upgrading to version `v4`.\u001b[0m\n",
            "  logger.warn(\n",
            "/usr/local/lib/python3.9/dist-packages/gymnasium/envs/registration.py:578: UserWarning: \u001b[33mWARN: The environment Pusher-v2 is out of date. You should consider upgrading to version `v4`.\u001b[0m\n",
            "  logger.warn(\n",
            "/usr/local/lib/python3.9/dist-packages/gymnasium/envs/registration.py:578: UserWarning: \u001b[33mWARN: The environment InvertedPendulum-v2 is out of date. You should consider upgrading to version `v4`.\u001b[0m\n",
            "  logger.warn(\n",
            "/usr/local/lib/python3.9/dist-packages/gymnasium/envs/registration.py:578: UserWarning: \u001b[33mWARN: The environment InvertedDoublePendulum-v2 is out of date. You should consider upgrading to version `v4`.\u001b[0m\n",
            "  logger.warn(\n",
            "/usr/local/lib/python3.9/dist-packages/gymnasium/envs/registration.py:578: UserWarning: \u001b[33mWARN: The environment HalfCheetah-v2 is out of date. You should consider upgrading to version `v4`.\u001b[0m\n",
            "  logger.warn(\n",
            "/usr/local/lib/python3.9/dist-packages/gymnasium/envs/registration.py:578: UserWarning: \u001b[33mWARN: The environment HalfCheetah-v3 is out of date. You should consider upgrading to version `v4`.\u001b[0m\n",
            "  logger.warn(\n",
            "/usr/local/lib/python3.9/dist-packages/gymnasium/envs/registration.py:578: UserWarning: \u001b[33mWARN: The environment Hopper-v2 is out of date. You should consider upgrading to version `v4`.\u001b[0m\n",
            "  logger.warn(\n",
            "/usr/local/lib/python3.9/dist-packages/gymnasium/envs/registration.py:578: UserWarning: \u001b[33mWARN: The environment Hopper-v3 is out of date. You should consider upgrading to version `v4`.\u001b[0m\n",
            "  logger.warn(\n",
            "/usr/local/lib/python3.9/dist-packages/gymnasium/envs/registration.py:578: UserWarning: \u001b[33mWARN: The environment Swimmer-v2 is out of date. You should consider upgrading to version `v4`.\u001b[0m\n",
            "  logger.warn(\n",
            "/usr/local/lib/python3.9/dist-packages/gymnasium/envs/registration.py:578: UserWarning: \u001b[33mWARN: The environment Swimmer-v3 is out of date. You should consider upgrading to version `v4`.\u001b[0m\n",
            "  logger.warn(\n",
            "/usr/local/lib/python3.9/dist-packages/gymnasium/envs/registration.py:578: UserWarning: \u001b[33mWARN: The environment Walker2d-v2 is out of date. You should consider upgrading to version `v4`.\u001b[0m\n",
            "  logger.warn(\n",
            "/usr/local/lib/python3.9/dist-packages/gymnasium/envs/registration.py:578: UserWarning: \u001b[33mWARN: The environment Walker2d-v3 is out of date. You should consider upgrading to version `v4`.\u001b[0m\n",
            "  logger.warn(\n",
            "/usr/local/lib/python3.9/dist-packages/gymnasium/envs/registration.py:578: UserWarning: \u001b[33mWARN: The environment Ant-v2 is out of date. You should consider upgrading to version `v4`.\u001b[0m\n",
            "  logger.warn(\n",
            "/usr/local/lib/python3.9/dist-packages/gymnasium/envs/registration.py:578: UserWarning: \u001b[33mWARN: The environment Ant-v3 is out of date. You should consider upgrading to version `v4`.\u001b[0m\n",
            "  logger.warn(\n",
            "/usr/local/lib/python3.9/dist-packages/gymnasium/envs/registration.py:578: UserWarning: \u001b[33mWARN: The environment Humanoid-v2 is out of date. You should consider upgrading to version `v4`.\u001b[0m\n",
            "  logger.warn(\n",
            "/usr/local/lib/python3.9/dist-packages/gymnasium/envs/registration.py:578: UserWarning: \u001b[33mWARN: The environment Humanoid-v3 is out of date. You should consider upgrading to version `v4`.\u001b[0m\n",
            "  logger.warn(\n",
            "/usr/local/lib/python3.9/dist-packages/gymnasium/envs/registration.py:578: UserWarning: \u001b[33mWARN: The environment HumanoidStandup-v2 is out of date. You should consider upgrading to version `v4`.\u001b[0m\n",
            "  logger.warn(\n"
          ]
        },
        {
          "output_type": "display_data",
          "data": {
            "text/plain": [
              "                                                                       观测空间  \\\n",
              "CartPole-v0               Box([-4.8000002e+00 -3.4028235e+38 -4.1887903e...   \n",
              "CartPole-v1               Box([-4.8000002e+00 -3.4028235e+38 -4.1887903e...   \n",
              "MountainCar-v0               Box([-1.2  -0.07], [0.6  0.07], (2,), float32)   \n",
              "MountainCarContinuous-v0     Box([-1.2  -0.07], [0.6  0.07], (2,), float32)   \n",
              "Pendulum-v1                   Box([-1. -1. -8.], [1. 1. 8.], (3,), float32)   \n",
              "Acrobot-v1                Box([ -1.        -1.        -1.        -1.    ...   \n",
              "CartPoleJax-v0                                Box(-inf, inf, (4,), float32)   \n",
              "CartPoleJax-v1                                Box(-inf, inf, (4,), float32)   \n",
              "PendulumJax-v0                                Box(-inf, inf, (3,), float32)   \n",
              "Blackjack-v1                      (Discrete(32), Discrete(11), Discrete(2))   \n",
              "FrozenLake-v1                                                  Discrete(16)   \n",
              "FrozenLake8x8-v1                                               Discrete(64)   \n",
              "CliffWalking-v0                                                Discrete(48)   \n",
              "Taxi-v3                                                       Discrete(500)   \n",
              "\n",
              "                                                   动作空间         奖励范围  最大步数  \n",
              "CartPole-v0                                 Discrete(2)  (-inf, inf)   200  \n",
              "CartPole-v1                                 Discrete(2)  (-inf, inf)   500  \n",
              "MountainCar-v0                              Discrete(3)  (-inf, inf)   200  \n",
              "MountainCarContinuous-v0  Box(-1.0, 1.0, (1,), float32)  (-inf, inf)   999  \n",
              "Pendulum-v1               Box(-2.0, 2.0, (1,), float32)  (-inf, inf)   200  \n",
              "Acrobot-v1                                  Discrete(3)  (-inf, inf)   500  \n",
              "CartPoleJax-v0                              Discrete(2)  (-inf, inf)   200  \n",
              "CartPoleJax-v1                              Discrete(2)  (-inf, inf)   500  \n",
              "PendulumJax-v0            Box(-2.0, 2.0, (1,), float32)  (-inf, inf)   200  \n",
              "Blackjack-v1                                Discrete(2)  (-inf, inf)  None  \n",
              "FrozenLake-v1                               Discrete(4)       (0, 1)   100  \n",
              "FrozenLake8x8-v1                            Discrete(4)       (0, 1)   200  \n",
              "CliffWalking-v0                             Discrete(4)  (-inf, inf)  None  \n",
              "Taxi-v3                                     Discrete(6)  (-inf, inf)   200  "
            ],
            "text/html": [
              "\n",
              "  <div id=\"df-668c2342-c46e-49c4-ab8b-4162b46e4117\">\n",
              "    <div class=\"colab-df-container\">\n",
              "      <div>\n",
              "<style scoped>\n",
              "    .dataframe tbody tr th:only-of-type {\n",
              "        vertical-align: middle;\n",
              "    }\n",
              "\n",
              "    .dataframe tbody tr th {\n",
              "        vertical-align: top;\n",
              "    }\n",
              "\n",
              "    .dataframe thead th {\n",
              "        text-align: right;\n",
              "    }\n",
              "</style>\n",
              "<table border=\"1\" class=\"dataframe\">\n",
              "  <thead>\n",
              "    <tr style=\"text-align: right;\">\n",
              "      <th></th>\n",
              "      <th>观测空间</th>\n",
              "      <th>动作空间</th>\n",
              "      <th>奖励范围</th>\n",
              "      <th>最大步数</th>\n",
              "    </tr>\n",
              "  </thead>\n",
              "  <tbody>\n",
              "    <tr>\n",
              "      <th>CartPole-v0</th>\n",
              "      <td>Box([-4.8000002e+00 -3.4028235e+38 -4.1887903e...</td>\n",
              "      <td>Discrete(2)</td>\n",
              "      <td>(-inf, inf)</td>\n",
              "      <td>200</td>\n",
              "    </tr>\n",
              "    <tr>\n",
              "      <th>CartPole-v1</th>\n",
              "      <td>Box([-4.8000002e+00 -3.4028235e+38 -4.1887903e...</td>\n",
              "      <td>Discrete(2)</td>\n",
              "      <td>(-inf, inf)</td>\n",
              "      <td>500</td>\n",
              "    </tr>\n",
              "    <tr>\n",
              "      <th>MountainCar-v0</th>\n",
              "      <td>Box([-1.2  -0.07], [0.6  0.07], (2,), float32)</td>\n",
              "      <td>Discrete(3)</td>\n",
              "      <td>(-inf, inf)</td>\n",
              "      <td>200</td>\n",
              "    </tr>\n",
              "    <tr>\n",
              "      <th>MountainCarContinuous-v0</th>\n",
              "      <td>Box([-1.2  -0.07], [0.6  0.07], (2,), float32)</td>\n",
              "      <td>Box(-1.0, 1.0, (1,), float32)</td>\n",
              "      <td>(-inf, inf)</td>\n",
              "      <td>999</td>\n",
              "    </tr>\n",
              "    <tr>\n",
              "      <th>Pendulum-v1</th>\n",
              "      <td>Box([-1. -1. -8.], [1. 1. 8.], (3,), float32)</td>\n",
              "      <td>Box(-2.0, 2.0, (1,), float32)</td>\n",
              "      <td>(-inf, inf)</td>\n",
              "      <td>200</td>\n",
              "    </tr>\n",
              "    <tr>\n",
              "      <th>Acrobot-v1</th>\n",
              "      <td>Box([ -1.        -1.        -1.        -1.    ...</td>\n",
              "      <td>Discrete(3)</td>\n",
              "      <td>(-inf, inf)</td>\n",
              "      <td>500</td>\n",
              "    </tr>\n",
              "    <tr>\n",
              "      <th>CartPoleJax-v0</th>\n",
              "      <td>Box(-inf, inf, (4,), float32)</td>\n",
              "      <td>Discrete(2)</td>\n",
              "      <td>(-inf, inf)</td>\n",
              "      <td>200</td>\n",
              "    </tr>\n",
              "    <tr>\n",
              "      <th>CartPoleJax-v1</th>\n",
              "      <td>Box(-inf, inf, (4,), float32)</td>\n",
              "      <td>Discrete(2)</td>\n",
              "      <td>(-inf, inf)</td>\n",
              "      <td>500</td>\n",
              "    </tr>\n",
              "    <tr>\n",
              "      <th>PendulumJax-v0</th>\n",
              "      <td>Box(-inf, inf, (3,), float32)</td>\n",
              "      <td>Box(-2.0, 2.0, (1,), float32)</td>\n",
              "      <td>(-inf, inf)</td>\n",
              "      <td>200</td>\n",
              "    </tr>\n",
              "    <tr>\n",
              "      <th>Blackjack-v1</th>\n",
              "      <td>(Discrete(32), Discrete(11), Discrete(2))</td>\n",
              "      <td>Discrete(2)</td>\n",
              "      <td>(-inf, inf)</td>\n",
              "      <td>None</td>\n",
              "    </tr>\n",
              "    <tr>\n",
              "      <th>FrozenLake-v1</th>\n",
              "      <td>Discrete(16)</td>\n",
              "      <td>Discrete(4)</td>\n",
              "      <td>(0, 1)</td>\n",
              "      <td>100</td>\n",
              "    </tr>\n",
              "    <tr>\n",
              "      <th>FrozenLake8x8-v1</th>\n",
              "      <td>Discrete(64)</td>\n",
              "      <td>Discrete(4)</td>\n",
              "      <td>(0, 1)</td>\n",
              "      <td>200</td>\n",
              "    </tr>\n",
              "    <tr>\n",
              "      <th>CliffWalking-v0</th>\n",
              "      <td>Discrete(48)</td>\n",
              "      <td>Discrete(4)</td>\n",
              "      <td>(-inf, inf)</td>\n",
              "      <td>None</td>\n",
              "    </tr>\n",
              "    <tr>\n",
              "      <th>Taxi-v3</th>\n",
              "      <td>Discrete(500)</td>\n",
              "      <td>Discrete(6)</td>\n",
              "      <td>(-inf, inf)</td>\n",
              "      <td>200</td>\n",
              "    </tr>\n",
              "  </tbody>\n",
              "</table>\n",
              "</div>\n",
              "      <button class=\"colab-df-convert\" onclick=\"convertToInteractive('df-668c2342-c46e-49c4-ab8b-4162b46e4117')\"\n",
              "              title=\"Convert this dataframe to an interactive table.\"\n",
              "              style=\"display:none;\">\n",
              "        \n",
              "  <svg xmlns=\"http://www.w3.org/2000/svg\" height=\"24px\"viewBox=\"0 0 24 24\"\n",
              "       width=\"24px\">\n",
              "    <path d=\"M0 0h24v24H0V0z\" fill=\"none\"/>\n",
              "    <path d=\"M18.56 5.44l.94 2.06.94-2.06 2.06-.94-2.06-.94-.94-2.06-.94 2.06-2.06.94zm-11 1L8.5 8.5l.94-2.06 2.06-.94-2.06-.94L8.5 2.5l-.94 2.06-2.06.94zm10 10l.94 2.06.94-2.06 2.06-.94-2.06-.94-.94-2.06-.94 2.06-2.06.94z\"/><path d=\"M17.41 7.96l-1.37-1.37c-.4-.4-.92-.59-1.43-.59-.52 0-1.04.2-1.43.59L10.3 9.45l-7.72 7.72c-.78.78-.78 2.05 0 2.83L4 21.41c.39.39.9.59 1.41.59.51 0 1.02-.2 1.41-.59l7.78-7.78 2.81-2.81c.8-.78.8-2.07 0-2.86zM5.41 20L4 18.59l7.72-7.72 1.47 1.35L5.41 20z\"/>\n",
              "  </svg>\n",
              "      </button>\n",
              "      \n",
              "  <style>\n",
              "    .colab-df-container {\n",
              "      display:flex;\n",
              "      flex-wrap:wrap;\n",
              "      gap: 12px;\n",
              "    }\n",
              "\n",
              "    .colab-df-convert {\n",
              "      background-color: #E8F0FE;\n",
              "      border: none;\n",
              "      border-radius: 50%;\n",
              "      cursor: pointer;\n",
              "      display: none;\n",
              "      fill: #1967D2;\n",
              "      height: 32px;\n",
              "      padding: 0 0 0 0;\n",
              "      width: 32px;\n",
              "    }\n",
              "\n",
              "    .colab-df-convert:hover {\n",
              "      background-color: #E2EBFA;\n",
              "      box-shadow: 0px 1px 2px rgba(60, 64, 67, 0.3), 0px 1px 3px 1px rgba(60, 64, 67, 0.15);\n",
              "      fill: #174EA6;\n",
              "    }\n",
              "\n",
              "    [theme=dark] .colab-df-convert {\n",
              "      background-color: #3B4455;\n",
              "      fill: #D2E3FC;\n",
              "    }\n",
              "\n",
              "    [theme=dark] .colab-df-convert:hover {\n",
              "      background-color: #434B5C;\n",
              "      box-shadow: 0px 1px 3px 1px rgba(0, 0, 0, 0.15);\n",
              "      filter: drop-shadow(0px 1px 2px rgba(0, 0, 0, 0.3));\n",
              "      fill: #FFFFFF;\n",
              "    }\n",
              "  </style>\n",
              "\n",
              "      <script>\n",
              "        const buttonEl =\n",
              "          document.querySelector('#df-668c2342-c46e-49c4-ab8b-4162b46e4117 button.colab-df-convert');\n",
              "        buttonEl.style.display =\n",
              "          google.colab.kernel.accessAllowed ? 'block' : 'none';\n",
              "\n",
              "        async function convertToInteractive(key) {\n",
              "          const element = document.querySelector('#df-668c2342-c46e-49c4-ab8b-4162b46e4117');\n",
              "          const dataTable =\n",
              "            await google.colab.kernel.invokeFunction('convertToInteractive',\n",
              "                                                     [key], {});\n",
              "          if (!dataTable) return;\n",
              "\n",
              "          const docLinkHtml = 'Like what you see? Visit the ' +\n",
              "            '<a target=\"_blank\" href=https://colab.research.google.com/notebooks/data_table.ipynb>data table notebook</a>'\n",
              "            + ' to learn more about interactive tables.';\n",
              "          element.innerHTML = '';\n",
              "          dataTable['output_type'] = 'display_data';\n",
              "          await google.colab.output.renderOutput(dataTable, element);\n",
              "          const docLink = document.createElement('div');\n",
              "          docLink.innerHTML = docLinkHtml;\n",
              "          element.appendChild(docLink);\n",
              "        }\n",
              "      </script>\n",
              "    </div>\n",
              "  </div>\n",
              "  "
            ]
          },
          "metadata": {}
        }
      ]
    },
    {
      "cell_type": "code",
      "source": [
        "from gym.wrappers import RecordVideo\n",
        "from JSAnimation.IPython_display import display_animation\n",
        "from IPython.display import display\n",
        "from pyvirtualdisplay import Display\n",
        "from IPython.display import HTML"
      ],
      "metadata": {
        "id": "d6frbsMSZJcB"
      },
      "execution_count": 4,
      "outputs": []
    },
    {
      "cell_type": "code",
      "source": [
        "# 设置虚拟显示器\n",
        "display = Display(visible=0, size=(1400, 900))\n",
        "display.start()\n",
        "\n",
        "# 定义一个函数，将Gym的环境渲染为动画\n",
        "def wrap_env(env):\n",
        "  env = RecordVideo(env, './video')\n",
        "  return env\n",
        "\n",
        "# 在Colab中播放动画\n",
        "def show_video():\n",
        "  mp4list = !ls ./video/*.mp4\n",
        "  if len(mp4list) > 0:\n",
        "    mp4 = mp4list[0]\n",
        "    video = open(mp4,'rb').read()\n",
        "    display(HTML(f'<video alt=\"test\" src=\"data:video/mp4;base64,{b64encode(video).decode()}\" autoplay=1 loop=1>'))\n",
        "  else: \n",
        "    print(\"Could not find video\")"
      ],
      "metadata": {
        "id": "0BSGePOJgdk3"
      },
      "execution_count": 5,
      "outputs": []
    },
    {
      "cell_type": "code",
      "source": [
        "# 示例代码：在MountainCar-v0环境中使用渲染功能\n",
        "\n",
        "env = gym.make('MountainCar-v0')\n",
        "print('观测空间 = {}'.format(env.observation_space))\n",
        "print('动作空间 = {}'.format(env.action_space))\n",
        "print('观测范围 = {} ~ {}'.format(env.observation_space.low,\n",
        "        env.observation_space.high))\n",
        "print('动作数 = {}'.format(env.action_space.n))"
      ],
      "metadata": {
        "colab": {
          "base_uri": "https://localhost:8080/"
        },
        "id": "QMg7YaYDZDxk",
        "outputId": "c6d116f6-6782-4a45-b8c4-d31f6be6b77c"
      },
      "execution_count": 6,
      "outputs": [
        {
          "output_type": "stream",
          "name": "stdout",
          "text": [
            "观测空间 = Box([-1.2  -0.07], [0.6  0.07], (2,), float32)\n",
            "动作空间 = Discrete(3)\n",
            "观测范围 = [-1.2  -0.07] ~ [0.6  0.07]\n",
            "动作数 = 3\n"
          ]
        }
      ]
    },
    {
      "cell_type": "code",
      "source": [
        "env = wrap_env(env) # 包装环境以进行渲染\n",
        "observation = env.reset()"
      ],
      "metadata": {
        "colab": {
          "base_uri": "https://localhost:8080/"
        },
        "id": "cg_QxFCaqkt6",
        "outputId": "8fbc819f-9fa9-41f2-acde-244dc2887621"
      },
      "execution_count": 7,
      "outputs": [
        {
          "output_type": "stream",
          "name": "stderr",
          "text": [
            "/usr/local/lib/python3.9/dist-packages/gym/wrappers/record_video.py:75: UserWarning: \u001b[33mWARN: Overwriting existing videos at /content/video folder (try specifying a different `video_folder` for the `RecordVideo` wrapper if this is not desired)\u001b[0m\n",
            "  logger.warn(\n",
            "/usr/local/lib/python3.9/dist-packages/gym/wrappers/monitoring/video_recorder.py:59: UserWarning: \u001b[33mWARN: Disabling video recorder because environment <TimeLimit<OrderEnforcing<PassiveEnvChecker<MountainCarEnv<MountainCar-v0>>>>> was not initialized with any compatible video mode between `rgb_array` and `rgb_array_list`\u001b[0m\n",
            "  logger.warn(\n",
            "/usr/local/lib/python3.9/dist-packages/gymnasium/envs/classic_control/mountain_car.py:173: UserWarning: \u001b[33mWARN: You are calling render method without specifying any render mode. You can specify the render_mode at initialization, e.g. gym.make(\"MountainCar-v0\", render_mode=\"rgb_array\")\u001b[0m\n",
            "  gym.logger.warn(\n"
          ]
        }
      ]
    },
    {
      "cell_type": "code",
      "source": [
        "class BespokeAgent:\n",
        "    def __init__(self, env):\n",
        "        pass\n",
        "\n",
        "    def decide(self, observation): # 决策\n",
        "        position, velocity = observation\n",
        "        lb = min(-0.09 * (position + 0.25) ** 2 + 0.03, 0.3 * (position + 0.9) ** 4 - 0.008)\n",
        "        ub = -0.07 * (position + 0.38) ** 2 + 0.07\n",
        "        if lb < velocity < ub:\n",
        "            action = 2\n",
        "        else:\n",
        "            action = 0\n",
        "        return action # 返回动作\n",
        "\n",
        "    def learn(self, *args): # 学习\n",
        "        pass\n",
        "\n",
        "agent = BespokeAgent(env)"
      ],
      "metadata": {
        "id": "x4yM5d5Yk0X_"
      },
      "execution_count": 8,
      "outputs": []
    },
    {
      "cell_type": "code",
      "source": [
        "def play_montecarlo(env, agent, render=False, train=False):\n",
        "    episode_reward = 0. # 记录回合总奖励，初始化为0\n",
        "    observation = env.reset() # 重置游戏环境，开始新回合\n",
        "    while True: # 不断循环，直到回合结束\n",
        "        if render: # 判断是否显示\n",
        "            env.render() # 显示图形界面，图形界面可以用 env.close() 语句关闭\n",
        "        action = agent.decide(observation)\n",
        "        next_observation, reward, done, info = env.step(action) # 执行动作\n",
        "        episode_reward += reward # 收集回合奖励\n",
        "        if train: # 判断是否训练智能体\n",
        "            agent.learn(observation, action, reward, done) # 学习\n",
        "        if done: # 回合结束，跳出循环\n",
        "            break\n",
        "        observation = next_observation\n",
        "    return episode_reward # 返回回合总奖励"
      ],
      "metadata": {
        "id": "DtMIsAwroIqG"
      },
      "execution_count": 9,
      "outputs": []
    },
    {
      "cell_type": "code",
      "source": [
        "episode_reward = play_montecarlo(env, agent, render=True)\n",
        "print('回合奖励 = {}'.format(episode_reward))"
      ],
      "metadata": {
        "colab": {
          "base_uri": "https://localhost:8080/",
          "height": 342
        },
        "id": "w-Vt1cV7kYjl",
        "outputId": "2df79e76-638b-4862-804d-c14a7f7c80f6"
      },
      "execution_count": 10,
      "outputs": [
        {
          "output_type": "error",
          "ename": "ValueError",
          "evalue": "ignored",
          "traceback": [
            "\u001b[0;31m---------------------------------------------------------------------------\u001b[0m",
            "\u001b[0;31mValueError\u001b[0m                                Traceback (most recent call last)",
            "\u001b[0;32m<ipython-input-10-30c5b9f31078>\u001b[0m in \u001b[0;36m<module>\u001b[0;34m\u001b[0m\n\u001b[0;32m----> 1\u001b[0;31m \u001b[0mepisode_reward\u001b[0m \u001b[0;34m=\u001b[0m \u001b[0mplay_montecarlo\u001b[0m\u001b[0;34m(\u001b[0m\u001b[0menv\u001b[0m\u001b[0;34m,\u001b[0m \u001b[0magent\u001b[0m\u001b[0;34m,\u001b[0m \u001b[0mrender\u001b[0m\u001b[0;34m=\u001b[0m\u001b[0;32mTrue\u001b[0m\u001b[0;34m)\u001b[0m\u001b[0;34m\u001b[0m\u001b[0;34m\u001b[0m\u001b[0m\n\u001b[0m\u001b[1;32m      2\u001b[0m \u001b[0mprint\u001b[0m\u001b[0;34m(\u001b[0m\u001b[0;34m'回合奖励 = {}'\u001b[0m\u001b[0;34m.\u001b[0m\u001b[0mformat\u001b[0m\u001b[0;34m(\u001b[0m\u001b[0mepisode_reward\u001b[0m\u001b[0;34m)\u001b[0m\u001b[0;34m)\u001b[0m\u001b[0;34m\u001b[0m\u001b[0;34m\u001b[0m\u001b[0m\n",
            "\u001b[0;32m<ipython-input-9-ca83ab4ab405>\u001b[0m in \u001b[0;36mplay_montecarlo\u001b[0;34m(env, agent, render, train)\u001b[0m\n\u001b[1;32m      5\u001b[0m         \u001b[0;32mif\u001b[0m \u001b[0mrender\u001b[0m\u001b[0;34m:\u001b[0m \u001b[0;31m# 判断是否显示\u001b[0m\u001b[0;34m\u001b[0m\u001b[0;34m\u001b[0m\u001b[0m\n\u001b[1;32m      6\u001b[0m             \u001b[0menv\u001b[0m\u001b[0;34m.\u001b[0m\u001b[0mrender\u001b[0m\u001b[0;34m(\u001b[0m\u001b[0;34m)\u001b[0m \u001b[0;31m# 显示图形界面，图形界面可以用 env.close() 语句关闭\u001b[0m\u001b[0;34m\u001b[0m\u001b[0;34m\u001b[0m\u001b[0m\n\u001b[0;32m----> 7\u001b[0;31m         \u001b[0maction\u001b[0m \u001b[0;34m=\u001b[0m \u001b[0magent\u001b[0m\u001b[0;34m.\u001b[0m\u001b[0mdecide\u001b[0m\u001b[0;34m(\u001b[0m\u001b[0mobservation\u001b[0m\u001b[0;34m)\u001b[0m\u001b[0;34m\u001b[0m\u001b[0;34m\u001b[0m\u001b[0m\n\u001b[0m\u001b[1;32m      8\u001b[0m         \u001b[0mnext_observation\u001b[0m\u001b[0;34m,\u001b[0m \u001b[0mreward\u001b[0m\u001b[0;34m,\u001b[0m \u001b[0mdone\u001b[0m\u001b[0;34m,\u001b[0m \u001b[0minfo\u001b[0m \u001b[0;34m=\u001b[0m \u001b[0menv\u001b[0m\u001b[0;34m.\u001b[0m\u001b[0mstep\u001b[0m\u001b[0;34m(\u001b[0m\u001b[0maction\u001b[0m\u001b[0;34m)\u001b[0m \u001b[0;31m# 执行动作\u001b[0m\u001b[0;34m\u001b[0m\u001b[0;34m\u001b[0m\u001b[0m\n\u001b[1;32m      9\u001b[0m         \u001b[0mepisode_reward\u001b[0m \u001b[0;34m+=\u001b[0m \u001b[0mreward\u001b[0m \u001b[0;31m# 收集回合奖励\u001b[0m\u001b[0;34m\u001b[0m\u001b[0;34m\u001b[0m\u001b[0m\n",
            "\u001b[0;32m<ipython-input-8-42601d756bf3>\u001b[0m in \u001b[0;36mdecide\u001b[0;34m(self, observation)\u001b[0m\n\u001b[1;32m      5\u001b[0m     \u001b[0;32mdef\u001b[0m \u001b[0mdecide\u001b[0m\u001b[0;34m(\u001b[0m\u001b[0mself\u001b[0m\u001b[0;34m,\u001b[0m \u001b[0mobservation\u001b[0m\u001b[0;34m)\u001b[0m\u001b[0;34m:\u001b[0m \u001b[0;31m# 决策\u001b[0m\u001b[0;34m\u001b[0m\u001b[0;34m\u001b[0m\u001b[0m\n\u001b[1;32m      6\u001b[0m         \u001b[0mposition\u001b[0m\u001b[0;34m,\u001b[0m \u001b[0mvelocity\u001b[0m \u001b[0;34m=\u001b[0m \u001b[0mobservation\u001b[0m\u001b[0;34m\u001b[0m\u001b[0;34m\u001b[0m\u001b[0m\n\u001b[0;32m----> 7\u001b[0;31m         \u001b[0mlb\u001b[0m \u001b[0;34m=\u001b[0m \u001b[0mmin\u001b[0m\u001b[0;34m(\u001b[0m\u001b[0;34m-\u001b[0m\u001b[0;36m0.09\u001b[0m \u001b[0;34m*\u001b[0m \u001b[0;34m(\u001b[0m\u001b[0mposition\u001b[0m \u001b[0;34m+\u001b[0m \u001b[0;36m0.25\u001b[0m\u001b[0;34m)\u001b[0m \u001b[0;34m**\u001b[0m \u001b[0;36m2\u001b[0m \u001b[0;34m+\u001b[0m \u001b[0;36m0.03\u001b[0m\u001b[0;34m,\u001b[0m \u001b[0;36m0.3\u001b[0m \u001b[0;34m*\u001b[0m \u001b[0;34m(\u001b[0m\u001b[0mposition\u001b[0m \u001b[0;34m+\u001b[0m \u001b[0;36m0.9\u001b[0m\u001b[0;34m)\u001b[0m \u001b[0;34m**\u001b[0m \u001b[0;36m4\u001b[0m \u001b[0;34m-\u001b[0m \u001b[0;36m0.008\u001b[0m\u001b[0;34m)\u001b[0m\u001b[0;34m\u001b[0m\u001b[0;34m\u001b[0m\u001b[0m\n\u001b[0m\u001b[1;32m      8\u001b[0m         \u001b[0mub\u001b[0m \u001b[0;34m=\u001b[0m \u001b[0;34m-\u001b[0m\u001b[0;36m0.07\u001b[0m \u001b[0;34m*\u001b[0m \u001b[0;34m(\u001b[0m\u001b[0mposition\u001b[0m \u001b[0;34m+\u001b[0m \u001b[0;36m0.38\u001b[0m\u001b[0;34m)\u001b[0m \u001b[0;34m**\u001b[0m \u001b[0;36m2\u001b[0m \u001b[0;34m+\u001b[0m \u001b[0;36m0.07\u001b[0m\u001b[0;34m\u001b[0m\u001b[0;34m\u001b[0m\u001b[0m\n\u001b[1;32m      9\u001b[0m         \u001b[0;32mif\u001b[0m \u001b[0mlb\u001b[0m \u001b[0;34m<\u001b[0m \u001b[0mvelocity\u001b[0m \u001b[0;34m<\u001b[0m \u001b[0mub\u001b[0m\u001b[0;34m:\u001b[0m\u001b[0;34m\u001b[0m\u001b[0;34m\u001b[0m\u001b[0m\n",
            "\u001b[0;31mValueError\u001b[0m: The truth value of an array with more than one element is ambiguous. Use a.any() or a.all()"
          ]
        }
      ]
    },
    {
      "cell_type": "markdown",
      "source": [
        "ChatGPT\n",
        "There seem to be two separate code snippets in the question, so I will address them one by one:\n",
        "\n",
        "Code Snippet 1: The error message \"ValueError: The truth value of an array with more than one element is ambiguous. Use a.any() or a.all()\" indicates that the boolean expression inside the if statement (lb < velocity < ub) is producing an array instead of a single boolean value, because the comparison operators are applied element-wise to the arrays.\n",
        "\n",
        "The cause of this issue is that the input observation is likely a numpy array, and the mathematical operations performed in the lb and ub calculations are producing numpy arrays as output. This means that lb and ub are arrays instead of scalars, which causes the element-wise comparison to produce an array.\n",
        "\n",
        "To fix this issue, we need to ensure that the lb and ub values are converted to scalars before they are used in the if statement. One way to achieve this is to use the numpy squeeze function to remove any singleton dimensions from the arrays:"
      ],
      "metadata": {
        "id": "3WRyl_J8tMTb"
      }
    },
    {
      "cell_type": "code",
      "source": [
        "env.close() # 此语句可关闭图形界面\n",
        "show_video() # 显示动画"
      ],
      "metadata": {
        "id": "HlvJ3vJ5m7Eh"
      },
      "execution_count": null,
      "outputs": []
    },
    {
      "cell_type": "code",
      "source": [
        "episode_rewards = [play_montecarlo(env, agent) for _ in range(100)]\n",
        "print('平均回合奖励 = {}'.format(np.mean(episode_rewards)))"
      ],
      "metadata": {
        "id": "NN_yWwxMm2Kq"
      },
      "execution_count": null,
      "outputs": []
    }
  ]
}