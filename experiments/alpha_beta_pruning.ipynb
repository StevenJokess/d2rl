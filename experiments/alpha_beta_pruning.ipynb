{
  "nbformat": 4,
  "nbformat_minor": 0,
  "metadata": {
    "colab": {
      "provenance": []
    },
    "kernelspec": {
      "name": "python3",
      "display_name": "Python 3"
    },
    "language_info": {
      "name": "python"
    }
  },
  "cells": [
    {
      "cell_type": "code",
      "execution_count": 1,
      "metadata": {
        "id": "XcKmi2AQo1GY"
      },
      "outputs": [],
      "source": [
        "class Node:\n",
        "    \"\"\"\n",
        "    :param value 该节点的值,默认为0\n",
        "    :param is_max 该节点是否在Max层\n",
        "    child 是该节点的子节点,是一个Node类的数组\n",
        "    \"\"\"\n",
        "    def __init__(self, value=0, is_max=True):\n",
        "        self.value = value\n",
        "        self.is_max = is_max\n",
        "        self.child = None\n",
        "\n",
        "    def setChildWithValue(self, childs):\n",
        "        temp = []\n",
        "        is_Max = not self.is_max\n",
        "        for c in childs:\n",
        "            temp.append(Node(value=c, is_max=is_Max))\n",
        "        self.child = temp\n",
        "\n",
        "    def setChildWithNode(self, childs):\n",
        "        if None is self.child:\n",
        "            self.child = childs\n",
        "            return\n",
        "        for c in childs:\n",
        "            self.child.append(c)\n"
      ]
    },
    {
      "cell_type": "code",
      "source": [
        "def init():\n",
        "    node1 = Node(is_max=False)\n",
        "    node1.setChildWithValue([60, 63])\n",
        "    node2 = Node(is_max=False)\n",
        "    node2.setChildWithValue([15, 58])\n",
        "    node3 = Node(is_max=True)\n",
        "    node3.setChildWithNode([node1, node2])\n",
        "    node1 = Node(is_max=False)\n",
        "    node1.setChildWithValue([81, 74])\n",
        "    node2 = Node(is_max=False)\n",
        "    node2.setChildWithValue([88, 15, 27])\n",
        "    node4 = Node(is_max=True)\n",
        "    node4.setChildWithNode([node1, node2])\n",
        "    node5 = Node(is_max=False)\n",
        "    node5.setChildWithNode([node3, node4])\n",
        "    node1 = Node(is_max=False)\n",
        "    node1.setChildWithValue([20, 92])\n",
        "    node2 = Node(is_max=False)\n",
        "    node2.setChildWithValue([9, 62])\n",
        "    node3 = Node(is_max=True)\n",
        "    node3.setChildWithNode([node1, node2])\n",
        "    node1 = Node(is_max=False)\n",
        "    node1.setChildWithValue([82, 92])\n",
        "    node2 = Node(is_max=False)\n",
        "    node2.setChildWithValue([54, 17])\n",
        "    node4 = Node(is_max=True)\n",
        "    node4.setChildWithNode([node1, node2])\n",
        "    node6 = Node(is_max=False)\n",
        "    node6.setChildWithNode([node3, node4])\n",
        "    head = Node(is_max=True)\n",
        "    head.setChildWithNode([node5, node6])\n",
        "    return head"
      ],
      "metadata": {
        "id": "hWZ_yAA0o8Vu"
      },
      "execution_count": 2,
      "outputs": []
    },
    {
      "cell_type": "code",
      "source": [
        "def mini_max(node):\n",
        "    if node.child is None:\n",
        "        return node.value\n",
        "\n",
        "    if not node.is_max:\n",
        "        best_value = float('inf')\n",
        "        for c in node.child:\n",
        "            best_value = min(best_value, mini_max(c))\n",
        "    else:\n",
        "        best_value = -float('inf')\n",
        "        for c in node.child:\n",
        "            best_value = max(best_value, mini_max(c))\n",
        "    return best_value"
      ],
      "metadata": {
        "id": "fhVhoCS8pEUy"
      },
      "execution_count": 3,
      "outputs": []
    },
    {
      "cell_type": "code",
      "source": [
        "def negative_max(node):\n",
        "    if node.child is None:\n",
        "        return -node.value\n",
        "\n",
        "    best_value = -float('inf')\n",
        "    for c in node.child:\n",
        "        best_value = -max(best_value, negative_max(c))\n",
        "    return best_value"
      ],
      "metadata": {
        "id": "hMWIEhTDpE6b"
      },
      "execution_count": 4,
      "outputs": []
    },
    {
      "cell_type": "code",
      "source": [
        "def alpha_beta(node, alpha, beta):\n",
        "    # alpha表示己方,要提高到最大利益,beta表示敌方,要降到最小利益\n",
        "    # alpha大于beta的时候就可以开始剪枝了,因为己方收益已经可以保证大于敌方收益了\n",
        "    # min层修改beta(最小化敌方收益),max层修改alpha(最大化己方收益)\n",
        "    if node.child is None:\n",
        "        return node.value\n",
        "    if not node.is_max:\n",
        "        # 该层为min层,要最小化敌方收益,所以best_value取越小越好(初始一个无穷大)\n",
        "        best_value = float('inf')\n",
        "        for c in node.child:\n",
        "            value = alpha_beta(c, alpha, beta)\n",
        "            best_value = min(best_value, value)\n",
        "            beta = min(beta, best_value)\n",
        "            if alpha >= beta:\n",
        "                break\n",
        "    else:\n",
        "        # 该层为max层,要最大化己方收益,所以best_value取越大越好(初始一个无穷小)\n",
        "        best_value = -float('inf')\n",
        "        for c in node.child:\n",
        "            value = alpha_beta(c, alpha, beta)\n",
        "            best_value = max(best_value, value)\n",
        "            alpha = max(alpha, best_value)\n",
        "            if alpha >= beta:\n",
        "                break\n",
        "    return best_value"
      ],
      "metadata": {
        "id": "jX6Cj3OqpGhw"
      },
      "execution_count": 5,
      "outputs": []
    },
    {
      "cell_type": "code",
      "source": [
        "if __name__ == '__main__':\n",
        "    head = init()\n",
        "\n",
        "    # print(mini_max(head))\n",
        "    # print(-negative_max(head))\n",
        "    print(alpha_beta(head, -float('inf'), float('inf')))"
      ],
      "metadata": {
        "colab": {
          "base_uri": "https://localhost:8080/"
        },
        "id": "S86kfW1jpI3y",
        "outputId": "82f5ac0d-d637-481a-d266-06834f5fed07"
      },
      "execution_count": 6,
      "outputs": [
        {
          "output_type": "stream",
          "name": "stdout",
          "text": [
            "60\n"
          ]
        }
      ]
    }
  ]
}