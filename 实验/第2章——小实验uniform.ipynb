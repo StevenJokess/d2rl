{
  "nbformat": 4,
  "nbformat_minor": 0,
  "metadata": {
    "colab": {
      "provenance": []
    },
    "kernelspec": {
      "name": "python3",
      "display_name": "Python 3"
    },
    "language_info": {
      "name": "python"
    }
  },
  "cells": [
    {
      "cell_type": "code",
      "execution_count": null,
      "metadata": {
        "id": "guUaIymTsmX4"
      },
      "outputs": [],
      "source": []
    },
    {
      "cell_type": "code",
      "source": [
        "import numpy as np\n",
        "K = 10\n",
        "s = np.random.uniform(size = K)\n",
        "print(s)"
      ],
      "metadata": {
        "colab": {
          "base_uri": "https://localhost:8080/"
        },
        "id": "d62N1k4Qs7P0",
        "outputId": "f3ff15ba-45cb-4d98-d734-c2e1b765fac4"
      },
      "execution_count": 1,
      "outputs": [
        {
          "output_type": "stream",
          "name": "stdout",
          "text": [
            "[0.20239591 0.41930702 0.6119072  0.72956595 0.9113527  0.48600943\n",
            " 0.08749021 0.14471192 0.61449061 0.33631633]\n"
          ]
        }
      ]
    },
    {
      "cell_type": "code",
      "source": [],
      "metadata": {
        "id": "tc4CsMQmu7NS"
      },
      "execution_count": null,
      "outputs": []
    },
    {
      "cell_type": "markdown",
      "source": [
        "显示样品的直方图以及概率密度函数："
      ],
      "metadata": {
        "id": "W-DSnNy_uQx7"
      }
    },
    {
      "cell_type": "code",
      "source": [
        "import matplotlib.pyplot as plt\n",
        "count, bins, ignored = plt.hist(s, 15, density=True)\n",
        "plt.plot(bins, np.ones_like(bins), linewidth=2, color='r')\n",
        "plt.show()"
      ],
      "metadata": {
        "colab": {
          "base_uri": "https://localhost:8080/",
          "height": 265
        },
        "id": "_ZRAKtqKtpYR",
        "outputId": "319553eb-fc54-49e9-8c57-9098f06f4a64"
      },
      "execution_count": 2,
      "outputs": [
        {
          "output_type": "display_data",
          "data": {
            "text/plain": [
              "<Figure size 432x288 with 1 Axes>"
            ],
            "image/png": "[encoded data removed]"
          },
          "metadata": {
            "needs_background": "light"
          }
        }
      ]
    },
    {
      "cell_type": "code",
      "source": [
        "import matplotlib.pyplot as plt\n",
        "count, bins, ignored = plt.hist(s, 10, density=True)\n",
        "plt.plot(bins, np.ones_like(bins), linewidth=2, color='r')\n",
        "plt.show()"
      ],
      "metadata": {
        "colab": {
          "base_uri": "https://localhost:8080/",
          "height": 265
        },
        "id": "myolRr9hv190",
        "outputId": "908edded-8fe7-45ac-f209-0120dba70132"
      },
      "execution_count": 3,
      "outputs": [
        {
          "output_type": "display_data",
          "data": {
            "text/plain": [
              "<Figure size 432x288 with 1 Axes>"
            ],
            "image/png": "[encoded data removed]"
          },
          "metadata": {
            "needs_background": "light"
          }
        }
      ]
    },
    {
      "cell_type": "markdown",
      "source": [
        "？还是没搞懂hist"
      ],
      "metadata": {
        "id": "X65Mk-kA6a6K"
      }
    },
    {
      "cell_type": "code",
      "source": [],
      "metadata": {
        "id": "Ish2h35DvyGB"
      },
      "execution_count": null,
      "outputs": []
    }
  ]
}